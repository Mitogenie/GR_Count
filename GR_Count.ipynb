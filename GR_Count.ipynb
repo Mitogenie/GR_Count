{
 "cells": [
  {
   "cell_type": "markdown",
   "metadata": {},
   "source": [
    "<h1 style=\"text-align:center;\">G/R Count <span style=\"text-align:center;font-size: 0.5em;\">1.0.3</span></h1>\n",
    "<h3 style=\"text-align:center;\">Zong Lab @ UVA</h3>"
   ]
  },
  {
   "cell_type": "markdown",
   "metadata": {},
   "source": [
    "# Welcome to G/R Count\n",
    "#### G/R Count is a computational tool to analyze mutant cell expansion kinetics!\n",
    "This Jupyter notebook provides you with step-by-step directions to qunatify your stacks."
   ]
  },
  {
   "cell_type": "markdown",
   "metadata": {},
   "source": [
    "## 1) Import necessary libraries\n",
    "In the next cell we import necessary libraries. No user input is required. Just run the cell and proceed to the next cell. "
   ]
  },
  {
   "cell_type": "code",
   "execution_count": 1,
   "metadata": {},
   "outputs": [],
   "source": [
    "# Importing data\n",
    "import numpy as np\n",
    "import pandas as pd\n",
    "import matplotlib.pyplot as plt\n",
    "import seaborn as sns\n",
    "import cv2\n",
    "import os\n",
    "import re\n",
    "from copy import deepcopy\n",
    "\n",
    "#interaction\n",
    "import ipywidgets as widgets\n",
    "from IPython.display import display\n",
    "from ipywidgets import (interact, interactive, fixed,\n",
    "                        IntSlider, Dropdown, Layout, HBox, Label)\n",
    "# from ipywidgets import Layout\n",
    "# from ipywidgets import HBox, Label\n",
    "\n",
    "#Core functionality\n",
    "import grcount as grc\n",
    "\n",
    "#Set Widget Layouts\n",
    "style = {'description_width': 'initial'}\n",
    "layout = widgets.Layout(width='90%')"
   ]
  },
  {
   "cell_type": "markdown",
   "metadata": {},
   "source": [
    "## 2) Locate files\n",
    "\n",
    "<br>\n",
    "<details>\n",
    "<summary><span style=\"font-size:16px;font-weight: bold; color:red\">What should I do next? (click here to expand)</span></summary>\n",
    "    \n",
    "#### <span style=\"color:red;\">You should interact with the next cell: </span> Please enter the relative/absolute address of the folder that contains your images. \n",
    "\n",
    "#### <span style=\"color:red;\">Examples: </span>\n",
    "* Relative Address\n",
    "    * Use . if the images are in the same folder as this file\n",
    "    * If your folder of the images (my_stack) is located in the same directory as this file, you should enter: my_stack in the box and press enter.\n",
    "* Absolute Address\n",
    "    *If your images are located on Desktop\n",
    "        * Mac: you should enter: /Users/username/Desktop/my_stack\n",
    "        * Windows: you should enter: C:\\Users\\username\\Desktop\\my_stack\n",
    "#### <span style=\"color:red;\">Note: </span>\n",
    "* It is preferred to have the folder of your images in the same folder as the current file that you are running\n",
    "* You should press enter after you paste or type the address in the box.\n",
    "</details>"
   ]
  },
  {
   "cell_type": "code",
   "execution_count": 2,
   "metadata": {},
   "outputs": [
    {
     "name": "stdout",
     "output_type": "stream",
     "text": [
      "Where are the files located?\n",
      "\n",
      "Stack\n"
     ]
    }
   ],
   "source": [
    "address,file_list = grc.address()"
   ]
  },
  {
   "cell_type": "code",
   "execution_count": 3,
   "metadata": {},
   "outputs": [
    {
     "name": "stdout",
     "output_type": "stream",
     "text": [
      "Please wait, while we are extrctaing stack info!\n",
      "You are all set! You may now run the next cell.\n"
     ]
    }
   ],
   "source": [
    "file_names, stacks, ch = grc.extract_stacks(address,file_list)"
   ]
  },
  {
   "cell_type": "markdown",
   "metadata": {},
   "source": [
    "## 3) Set the threshold to remove the background noise\n",
    "\n",
    "<br>\n",
    "<details>\n",
    "<summary><span style=\"font-size:16px;font-weight: bold; color:red\">What should I do next? (click here to expand)</span></summary>\n",
    "\n",
    "\n",
    "#### Before measuring the GFP+ and RFP+ area, we should first remove the background noise. The next cell helps you to achieve this goal. \n",
    "- You may have different strategies to select the optimal signal threshold. For instance you may pick out the first one of every other 50 stack layers, and based on your observations you can decide on the optimal threshold which removes the background noise for the majority of images without burying the true signals.\n",
    "    - Please note, once you select a threshold, it will be applied to all of the images.\n",
    "\n",
    "#### <span style=\"color:red;\">You should interact with the next cell</span> Use the sliders to find the optimal threshold to remove background noise.\n",
    "\n",
    "</details>\n",
    "\n",
    "\n",
    "<br>\n",
    "<details>\n",
    "<summary><span style=\"font-size:16px;font-weight: bold; color:red\">List of parameters that you will adjust in the next cell (click here to expand)</span></summary>\n",
    "\n",
    "#### Stack Number\n",
    "\n",
    "* You can use this slider to select different layers of the stack.\n",
    "\n",
    "#### Green Channel Threshold\n",
    "\n",
    "* This slider helps you to independently set a threshold on the green channel. The original green channel is shown in the \"Green\" frame, and the contents of the green channel after the thresholding is displayed in the \"Green Mask\" frame.\n",
    "\n",
    "#### Red Channel Threshold\n",
    "\n",
    "* This slider helps you to independently set a threshold on the red channel. The original red channel is shown in the \"Red\" frame, and the contents of the red channel after the thresholding is displayed in the \"Red Mask\" frame.\n",
    "\n",
    "#### Red Channel Brightness (Visual Only)\n",
    "\n",
    "* In cases where the signal level in your red channel is low, you can use this slider to instantly increase the brighness in the red channel to better see the details, and make more informed decisions on the right threshold for your red channels.\n",
    " - This slider only visually increases the brighness for better visualization and it has no effect on the results.\n",
    "\n",
    "#### Green Channel Brightness (Visual Only)\n",
    "\n",
    "* In cases where the signal level in your green channel is low, you can use this slider to instantly increase the brighness in the green channel to better see the details, and make more informed decisions on the right threshold for your green channels.\n",
    " - This slider only visually increases the brighness for better visualization and it has no effect on the results.\n",
    "\n",
    "\n",
    "### How to reset to the default values?\n",
    "* Just re-run the cell again.\n",
    "</details>"
   ]
  },
  {
   "cell_type": "code",
   "execution_count": 4,
   "metadata": {
    "scrolled": false
   },
   "outputs": [
    {
     "data": {
      "application/vnd.jupyter.widget-view+json": {
       "model_id": "2068900f7db54916807dd46249ac6bf5",
       "version_major": 2,
       "version_minor": 0
      },
      "text/plain": [
       "interactive(children=(IntSlider(value=71, continuous_update=False, description='Stack Number', layout=Layout(w…"
      ]
     },
     "metadata": {},
     "output_type": "display_data"
    }
   ],
   "source": [
    "a = IntSlider(min=min(stacks),max=max(stacks),step=1,\n",
    "              value=round(int(min(stacks))+(int(max(stacks)))/2),continuous_update=False, description='Stack Number',layout=layout, style=style)\n",
    "c = IntSlider(min=0,max=255,step=1,value=15,continuous_update=False, description='Green Channel Threshold',layout=layout, style=style)\n",
    "d = IntSlider(min=0,max=255,step=1,value=15,continuous_update=False, description='Red Channel Threshold',layout=layout, style=style)\n",
    "e = IntSlider(min=1,max=20,step=1,value=5,continuous_update=False, description='Green Channel Brightness (Visual Only)',layout=layout, style=style)\n",
    "f = IntSlider(min=1,max=20,step=1,value=5,continuous_update=False, description='Red Channel Brightness (Visual Only)',layout=layout, style=style)\n",
    "\n",
    "thresholds = [0,0]\n",
    "image_shape = (0,0,0)\n",
    "thrs = []\n",
    "\n",
    "@interact(slide_of_iterest=a, Green_Th=c, Red_Th=d, GreenBright=e, RedBright=f)\n",
    "def pre_process(slide_of_iterest,Green_Th,Red_Th, GreenBright, RedBright):\n",
    "    z1 = '%03d' %slide_of_iterest\n",
    "    test_images = []\n",
    "    \n",
    "    for i in file_names:\n",
    "        if z1 in i:\n",
    "            test_images.append(i)\n",
    "    thr = grc.mask_it(address, test_images, Red_Th, Green_Th, RedBright, GreenBright, thresholds, image_shape)\n",
    "    thrs.append(thr)"
   ]
  },
  {
   "cell_type": "markdown",
   "metadata": {},
   "source": [
    "## 4)  Eliminate GFP & RFP double positive zones. \n",
    "\n",
    "\n",
    "<br>\n",
    "<details>\n",
    "<summary><span style=\"font-size:16px;font-weight: bold; color:red\">What should I do next? (click here to expand)</span></summary>\n",
    "\n",
    "\n",
    "#### In this section, we identify and subtract the GFP & RFP double positive areas within the image (yellow area) to get the true value of GFP only or RFP only positive areas.\n",
    "\n",
    "With subtraction of yellow area, we get the true green cell area and red area. Finally, through adding up the green area and red area of the whole image sequence, we can acquire the accurate G/R ratio of FT samples.\n",
    " \n",
    "\n",
    "#### <span style=\"color:red;\">You should interact with the next cell: </span> Use the sliders to find the GFP & RFP double positive zones.\n",
    "\n",
    "</details>\n",
    "\n",
    "<br>\n",
    "<details>\n",
    "<summary><span style=\"font-size:16px;font-weight: bold; color:red\">List of parameters that you will adjust in the next cell (click here to expand)</span></summary>\n",
    "\n",
    "#### Stack Number\n",
    "\n",
    "* You can use this slider to select different layers of the stack.\n",
    "\n",
    "#### Overlap Threshold\n",
    "\n",
    "* This slider is used to define and remove the GFP & RFP double positive zones (yellow areas in the original image). By changing the value of this slider you are selecting a minimum acceptable signal ratio at each pixels that is considered an overlap.\n",
    "\n",
    "### What do different frames show?\n",
    "* Red Mask: Thresholded red channel (Previous step)\n",
    "* Green Mask: Thresholded green channel (Previous step)\n",
    "* Red mask after removing the yellow area: Areas where only the red channel is stained\n",
    "* Green mask after removing the yellow area: Areas where only the green channel is stained\n",
    "* Original image with overlaid channels: Exactly wht the name suggests\n",
    "* Original image with overlaid channels after removing the yellow area: Areas within the cell where only GFP or RFP and not both of them are positive\n",
    "\n",
    "### How to reset to the default values?\n",
    "* Just re-run the cell again.\n",
    "</details>"
   ]
  },
  {
   "cell_type": "code",
   "execution_count": 5,
   "metadata": {
    "scrolled": false
   },
   "outputs": [
    {
     "data": {
      "application/vnd.jupyter.widget-view+json": {
       "model_id": "4ed452449a984466a7b4b7ceb166639a",
       "version_major": 2,
       "version_minor": 0
      },
      "text/plain": [
       "interactive(children=(IntSlider(value=71, continuous_update=False, description='Slide of Interest', layout=Lay…"
      ]
     },
     "metadata": {},
     "output_type": "display_data"
    }
   ],
   "source": [
    "g = IntSlider(min=min(stacks),max=max(stacks),step=1,value=round(int(min(stacks))+(int(max(stacks)))/2),continuous_update=False, description='Slide of Interest',layout=layout, style=style)\n",
    "h = widgets.FloatSlider(min=0.0,max=5.0,step=0.1, value=1, continuous_update=False,  description='Overlap Threshold', layout=layout, style=style)\n",
    "\n",
    "func_settings = [0,0]\n",
    "non_coloc_mask_array = []\n",
    "\n",
    "@interact(slide_of_iterest=g, Green_Red_ratio=h)\n",
    "def pre_process(slide_of_iterest,Green_Red_ratio):\n",
    "    z1 = '%03d' %slide_of_iterest\n",
    "    test_images = []\n",
    "    for i in file_names:\n",
    "        if z1 in i:\n",
    "            test_images.append(i)\n",
    "    \n",
    "    grc.remove_yellow(address, test_images,slide_of_iterest, Green_Red_ratio, thrs[-1],func_settings,non_coloc_mask_array)"
   ]
  },
  {
   "cell_type": "markdown",
   "metadata": {},
   "source": [
    "# 5) Measure the signal ratio\n",
    "#### Just run the following cells to measure the GR ratio across the stack images."
   ]
  },
  {
   "cell_type": "code",
   "execution_count": 6,
   "metadata": {},
   "outputs": [],
   "source": [
    "non_coloc_mask = non_coloc_mask_array[-1]"
   ]
  },
  {
   "cell_type": "code",
   "execution_count": 7,
   "metadata": {
    "scrolled": false
   },
   "outputs": [
    {
     "name": "stdout",
     "output_type": "stream",
     "text": [
      "Please wait while we are measuring the ratios!\n"
     ]
    },
    {
     "name": "stderr",
     "output_type": "stream",
     "text": [
      "/Users/ali/Downloads/Zong Lab/grcount.py:186: RuntimeWarning: divide by zero encountered in long_scalars\n",
      "  measures.append((stack,dst2.sum(),dst1.sum(), (dst2.sum()/dst1.sum()),((dst1.sum()/dst2.sum()))))\n"
     ]
    },
    {
     "name": "stdout",
     "output_type": "stream",
     "text": [
      "\n",
      " You are all set! You may now proceed to the next cell.\n"
     ]
    }
   ],
   "source": [
    "measurements = grc.measure_it(address,non_coloc_mask, file_names,ch,thrs[-1],measures=None)"
   ]
  },
  {
   "cell_type": "markdown",
   "metadata": {},
   "source": [
    "# 6) Check the results"
   ]
  },
  {
   "cell_type": "code",
   "execution_count": 8,
   "metadata": {},
   "outputs": [
    {
     "data": {
      "application/vnd.jupyter.widget-view+json": {
       "model_id": "fcce4615996f4794a517f7fcc4a8680b",
       "version_major": 2,
       "version_minor": 0
      },
      "text/plain": [
       "interactive(children=(Dropdown(description='What to do with the data?', layout=Layout(width='90%'), options=('…"
      ]
     },
     "metadata": {},
     "output_type": "display_data"
    }
   ],
   "source": [
    "opts = ['Keep the data as is', 'Remove the channels where the signal at one or both channels is zero']\n",
    "measurements_cleaned = deepcopy(measurements)\n",
    "\n",
    "@interact(choices = Dropdown( options=opts, description='What to do with the data?',layout=layout, style=style))\n",
    "def pre_process(choices):\n",
    "    if choices == 'Keep the data as is':\n",
    "        measurements.fillna(0, inplace=True)\n",
    "        measurements_cleaned = deepcopy(measurements)\n",
    "        measurements_cleaned = pd.DataFrame(measurements_cleaned.values)\n",
    "        measurements_cleaned.columns = ['Stack','Red Area', 'Green Area', 'Red/Green Ratio','Green/Red Ratio']\n",
    "        print('We replaced the Inf (num/zero) and Nan (zero/zero) with 0 in the table.\\n')\n",
    "        print('Here are the first 5 lines of your data:\\n')\n",
    "        print(measurements.head())\n",
    "    else:\n",
    "        measurements.dropna(inplace=True, axis=0)\n",
    "        measurements_cleaned = deepcopy(measurements)\n",
    "        measurements_cleaned = pd.DataFrame(measurements_cleaned.values)\n",
    "        measurements_cleaned.columns = ['Stack','Red Area', 'Green Area', 'Red/Green Ratio','Green/Red Ratio']\n",
    "        print('Here are the first 5 lines of your data:\\n')\n",
    "        print(measurements_cleaned.head())\n",
    "     "
   ]
  },
  {
   "cell_type": "markdown",
   "metadata": {},
   "source": [
    "# Summary of the measurements\n",
    "### Statistical summary of the measured features along the stack of images."
   ]
  },
  {
   "cell_type": "code",
   "execution_count": 9,
   "metadata": {
    "scrolled": true
   },
   "outputs": [],
   "source": [
    "summary_data = measurements.describe()\n",
    "sum_data = grc.stack_sum(measurements)"
   ]
  },
  {
   "cell_type": "code",
   "execution_count": 10,
   "metadata": {},
   "outputs": [
    {
     "name": "stdout",
     "output_type": "stream",
     "text": [
      "Statistical Summary of the features along the stack.\n"
     ]
    },
    {
     "data": {
      "text/html": [
       "<div>\n",
       "<style scoped>\n",
       "    .dataframe tbody tr th:only-of-type {\n",
       "        vertical-align: middle;\n",
       "    }\n",
       "\n",
       "    .dataframe tbody tr th {\n",
       "        vertical-align: top;\n",
       "    }\n",
       "\n",
       "    .dataframe thead tr th {\n",
       "        text-align: left;\n",
       "    }\n",
       "</style>\n",
       "<table border=\"1\" class=\"dataframe\">\n",
       "  <thead>\n",
       "    <tr>\n",
       "      <th></th>\n",
       "      <th>Green Area</th>\n",
       "      <th>Red Area</th>\n",
       "      <th>Green/Red Ratio</th>\n",
       "      <th>Red/Green Ratio</th>\n",
       "    </tr>\n",
       "  </thead>\n",
       "  <tbody>\n",
       "    <tr>\n",
       "      <td>count</td>\n",
       "      <td>140.000000</td>\n",
       "      <td>140.000000</td>\n",
       "      <td>140.000000</td>\n",
       "      <td>140.000000</td>\n",
       "    </tr>\n",
       "    <tr>\n",
       "      <td>mean</td>\n",
       "      <td>22519.314286</td>\n",
       "      <td>1812.242857</td>\n",
       "      <td>22.158063</td>\n",
       "      <td>4.350845</td>\n",
       "    </tr>\n",
       "    <tr>\n",
       "      <td>std</td>\n",
       "      <td>23756.079535</td>\n",
       "      <td>1295.922254</td>\n",
       "      <td>41.848345</td>\n",
       "      <td>29.402994</td>\n",
       "    </tr>\n",
       "    <tr>\n",
       "      <td>min</td>\n",
       "      <td>1.000000</td>\n",
       "      <td>0.000000</td>\n",
       "      <td>0.000000</td>\n",
       "      <td>0.000000</td>\n",
       "    </tr>\n",
       "    <tr>\n",
       "      <td>25%</td>\n",
       "      <td>1802.000000</td>\n",
       "      <td>634.000000</td>\n",
       "      <td>1.866242</td>\n",
       "      <td>0.043802</td>\n",
       "    </tr>\n",
       "    <tr>\n",
       "      <td>50%</td>\n",
       "      <td>10621.500000</td>\n",
       "      <td>1636.500000</td>\n",
       "      <td>11.312472</td>\n",
       "      <td>0.085922</td>\n",
       "    </tr>\n",
       "    <tr>\n",
       "      <td>75%</td>\n",
       "      <td>47400.250000</td>\n",
       "      <td>2736.000000</td>\n",
       "      <td>22.283814</td>\n",
       "      <td>0.514402</td>\n",
       "    </tr>\n",
       "    <tr>\n",
       "      <td>max</td>\n",
       "      <td>67953.000000</td>\n",
       "      <td>5018.000000</td>\n",
       "      <td>288.660000</td>\n",
       "      <td>247.000000</td>\n",
       "    </tr>\n",
       "  </tbody>\n",
       "</table>\n",
       "</div>"
      ],
      "text/plain": [
       "         Green Area     Red Area Green/Red Ratio Red/Green Ratio\n",
       "count    140.000000   140.000000      140.000000      140.000000\n",
       "mean   22519.314286  1812.242857       22.158063        4.350845\n",
       "std    23756.079535  1295.922254       41.848345       29.402994\n",
       "min        1.000000     0.000000        0.000000        0.000000\n",
       "25%     1802.000000   634.000000        1.866242        0.043802\n",
       "50%    10621.500000  1636.500000       11.312472        0.085922\n",
       "75%    47400.250000  2736.000000       22.283814        0.514402\n",
       "max    67953.000000  5018.000000      288.660000      247.000000"
      ]
     },
     "execution_count": 10,
     "metadata": {},
     "output_type": "execute_result"
    }
   ],
   "source": [
    "print('Statistical Summary of the features along the stack.')\n",
    "summary_data"
   ]
  },
  {
   "cell_type": "code",
   "execution_count": 11,
   "metadata": {},
   "outputs": [
    {
     "name": "stdout",
     "output_type": "stream",
     "text": [
      "G/R Ratio Measurement.\n"
     ]
    },
    {
     "data": {
      "text/html": [
       "<div>\n",
       "<style scoped>\n",
       "    .dataframe tbody tr th:only-of-type {\n",
       "        vertical-align: middle;\n",
       "    }\n",
       "\n",
       "    .dataframe tbody tr th {\n",
       "        vertical-align: top;\n",
       "    }\n",
       "\n",
       "    .dataframe thead th {\n",
       "        text-align: right;\n",
       "    }\n",
       "</style>\n",
       "<table border=\"1\" class=\"dataframe\">\n",
       "  <thead>\n",
       "    <tr style=\"text-align: right;\">\n",
       "      <th></th>\n",
       "      <th>Total Green Area along the Stack</th>\n",
       "      <th>Total Red Area along the Stack</th>\n",
       "      <th>Green/Red Ratio of the stack</th>\n",
       "      <th>Red/Green Ratio of the stack</th>\n",
       "    </tr>\n",
       "    <tr>\n",
       "      <th>Stack Results</th>\n",
       "      <th></th>\n",
       "      <th></th>\n",
       "      <th></th>\n",
       "      <th></th>\n",
       "    </tr>\n",
       "  </thead>\n",
       "  <tbody>\n",
       "    <tr>\n",
       "      <td>&gt;&gt;&gt;</td>\n",
       "      <td>3152704.0</td>\n",
       "      <td>253714.0</td>\n",
       "      <td>12.426212</td>\n",
       "      <td>0.080475</td>\n",
       "    </tr>\n",
       "  </tbody>\n",
       "</table>\n",
       "</div>"
      ],
      "text/plain": [
       "               Total Green Area along the Stack  \\\n",
       "Stack Results                                     \n",
       ">>>                                   3152704.0   \n",
       "\n",
       "               Total Red Area along the Stack  Green/Red Ratio of the stack  \\\n",
       "Stack Results                                                                 \n",
       ">>>                                  253714.0                     12.426212   \n",
       "\n",
       "               Red/Green Ratio of the stack  \n",
       "Stack Results                                \n",
       ">>>                                0.080475  "
      ]
     },
     "execution_count": 11,
     "metadata": {},
     "output_type": "execute_result"
    }
   ],
   "source": [
    "print('G/R Ratio Measurement.')\n",
    "sum_data"
   ]
  },
  {
   "cell_type": "markdown",
   "metadata": {},
   "source": [
    "# 7) Plot the signal ratio across the stack"
   ]
  },
  {
   "cell_type": "code",
   "execution_count": 12,
   "metadata": {},
   "outputs": [
    {
     "data": {
      "image/png": "[encoded data removed]",
      "text/plain": [
       "<Figure size 1152x1152 with 2 Axes>"
      ]
     },
     "metadata": {
      "needs_background": "light"
     },
     "output_type": "display_data"
    }
   ],
   "source": [
    "grc.plot_results(measurements_cleaned)"
   ]
  },
  {
   "cell_type": "markdown",
   "metadata": {},
   "source": [
    "# 8) Export the results"
   ]
  },
  {
   "cell_type": "markdown",
   "metadata": {},
   "source": [
    "#### Run the next cell to export your measurements.\n",
    "#### The files will be saved in the same folder as this Jupyter notebook is located."
   ]
  },
  {
   "cell_type": "code",
   "execution_count": 13,
   "metadata": {},
   "outputs": [],
   "source": [
    "measurements_cleaned.to_csv('Stack_measurements.csv')\n",
    "summary_data.to_csv('Stack_summary.csv')"
   ]
  },
  {
   "cell_type": "markdown",
   "metadata": {},
   "source": [
    "# The End!"
   ]
  }
 ],
 "metadata": {
  "kernelspec": {
   "display_name": "Python 3",
   "language": "python",
   "name": "python3"
  },
  "language_info": {
   "codemirror_mode": {
    "name": "ipython",
    "version": 3
   },
   "file_extension": ".py",
   "mimetype": "text/x-python",
   "name": "python",
   "nbconvert_exporter": "python",
   "pygments_lexer": "ipython3",
   "version": "3.7.4"
  }
 },
 "nbformat": 4,
 "nbformat_minor": 2
}
